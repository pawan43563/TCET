{
  "nbformat": 4,
  "nbformat_minor": 0,
  "metadata": {
    "colab": {
      "name": "STAGE2_Radical.ipynb",
      "provenance": [],
      "collapsed_sections": []
    },
    "kernelspec": {
      "name": "python3",
      "display_name": "Python 3"
    }
  },
  "cells": [
    {
      "cell_type": "code",
      "metadata": {
        "id": "oIatMChSGRxW",
        "colab_type": "code",
        "outputId": "3f401d74-a23d-4194-e46c-21674ac1f72c",
        "colab": {
          "base_uri": "https://localhost:8080/",
          "height": 216
        }
      },
      "source": [
        "import pandas as pd\n",
        "import seaborn as sns\n",
        "import numpy as np\n",
        "import matplotlib.pyplot as plt\n",
        "sns.set(color_codes=True)\n",
        "%matplotlib inline\n",
        "\n",
        "df3 = pd.read_csv('train.csv')\n",
        "df3.head()"
      ],
      "execution_count": 0,
      "outputs": [
        {
          "output_type": "stream",
          "text": [
            "1KMwq1AHuIi0M7t0oWedvLoUJNKESjnHD\n"
          ],
          "name": "stdout"
        },
        {
          "output_type": "execute_result",
          "data": {
            "text/html": [
              "<div>\n",
              "<style scoped>\n",
              "    .dataframe tbody tr th:only-of-type {\n",
              "        vertical-align: middle;\n",
              "    }\n",
              "\n",
              "    .dataframe tbody tr th {\n",
              "        vertical-align: top;\n",
              "    }\n",
              "\n",
              "    .dataframe thead th {\n",
              "        text-align: right;\n",
              "    }\n",
              "</style>\n",
              "<table border=\"1\" class=\"dataframe\">\n",
              "  <thead>\n",
              "    <tr style=\"text-align: right;\">\n",
              "      <th></th>\n",
              "      <th>Id</th>\n",
              "      <th>category</th>\n",
              "      <th>text</th>\n",
              "    </tr>\n",
              "  </thead>\n",
              "  <tbody>\n",
              "    <tr>\n",
              "      <th>0</th>\n",
              "      <td>1</td>\n",
              "      <td>snack</td>\n",
              "      <td>\"RecipeName\": \" Reese's™ Peanut Butter Layer B...</td>\n",
              "    </tr>\n",
              "    <tr>\n",
              "      <th>1</th>\n",
              "      <td>2</td>\n",
              "      <td>dessert</td>\n",
              "      <td>\"RecipeName\": \"\"\"\"Just Bugging You\" Cupcake Co...</td>\n",
              "    </tr>\n",
              "    <tr>\n",
              "      <th>2</th>\n",
              "      <td>3</td>\n",
              "      <td>dessert</td>\n",
              "      <td>\"RecipeName\": \"\"\"Easy Fruit Crisp \"Dump\" Desse...</td>\n",
              "    </tr>\n",
              "    <tr>\n",
              "      <th>3</th>\n",
              "      <td>4</td>\n",
              "      <td>snack</td>\n",
              "      <td>\"RecipeName\": \"3-Ingredient Crunchy Snack Mix\"...</td>\n",
              "    </tr>\n",
              "    <tr>\n",
              "      <th>4</th>\n",
              "      <td>5</td>\n",
              "      <td>condiment</td>\n",
              "      <td>\"RecipeName\": \"5-Minute Poppy Seed Dressing\",\\...</td>\n",
              "    </tr>\n",
              "  </tbody>\n",
              "</table>\n",
              "</div>"
            ],
            "text/plain": [
              "   Id   category                                               text\n",
              "0   1      snack  \"RecipeName\": \" Reese's™ Peanut Butter Layer B...\n",
              "1   2    dessert  \"RecipeName\": \"\"\"\"Just Bugging You\" Cupcake Co...\n",
              "2   3    dessert  \"RecipeName\": \"\"\"Easy Fruit Crisp \"Dump\" Desse...\n",
              "3   4      snack  \"RecipeName\": \"3-Ingredient Crunchy Snack Mix\"...\n",
              "4   5  condiment  \"RecipeName\": \"5-Minute Poppy Seed Dressing\",\\..."
            ]
          },
          "metadata": {
            "tags": []
          },
          "execution_count": 1
        }
      ]
    },
    {
      "cell_type": "code",
      "metadata": {
        "id": "gmfevrjFGVUR",
        "colab_type": "code",
        "colab": {}
      },
      "source": [
        "df3 = pd.read_csv('train.csv')"
      ],
      "execution_count": 0,
      "outputs": []
    },
    {
      "cell_type": "code",
      "metadata": {
        "id": "WLRLVkVUKDoL",
        "colab_type": "code",
        "outputId": "d9b94d5e-78ae-4167-a629-c7945d2da685",
        "colab": {
          "base_uri": "https://localhost:8080/",
          "height": 199
        }
      },
      "source": [
        "for i in range(0,len(df3)):\n",
        "  x=df3.text[i]\n",
        "  y=x.replace('\\\"','')\n",
        "  t=y.index('[')+1\n",
        "  t1=y.index(']')\n",
        "  z=y.replace(y[:t],\"\")\n",
        "  z=z.replace(y[t1:],\"\")\n",
        "  z=z.replace(\"\\r\",\"\")\n",
        "  z=z.replace(\"\\n\",\"\")\n",
        "  df3.text[i]=\"\"\n",
        "  df3.text[i]=z"
      ],
      "execution_count": 0,
      "outputs": [
        {
          "output_type": "stream",
          "text": [
            "/usr/local/lib/python3.6/dist-packages/ipykernel_launcher.py:10: SettingWithCopyWarning: \n",
            "A value is trying to be set on a copy of a slice from a DataFrame\n",
            "\n",
            "See the caveats in the documentation: http://pandas.pydata.org/pandas-docs/stable/user_guide/indexing.html#returning-a-view-versus-a-copy\n",
            "  # Remove the CWD from sys.path while we load stuff.\n",
            "/usr/local/lib/python3.6/dist-packages/ipykernel_launcher.py:11: SettingWithCopyWarning: \n",
            "A value is trying to be set on a copy of a slice from a DataFrame\n",
            "\n",
            "See the caveats in the documentation: http://pandas.pydata.org/pandas-docs/stable/user_guide/indexing.html#returning-a-view-versus-a-copy\n",
            "  # This is added back by InteractiveShellApp.init_path()\n"
          ],
          "name": "stderr"
        }
      ]
    },
    {
      "cell_type": "code",
      "metadata": {
        "id": "VlQ1XSMuKdK-",
        "colab_type": "code",
        "outputId": "6b0f016e-71c6-493c-a114-9aee341a0acd",
        "colab": {
          "base_uri": "https://localhost:8080/",
          "height": 272
        }
      },
      "source": [
        "print(df3)"
      ],
      "execution_count": 0,
      "outputs": [
        {
          "output_type": "stream",
          "text": [
            "      Id   category                                               text\n",
            "0      1      snack  pouch (17.5 oz) Betty Crocker™ double chocolat...\n",
            "1      2    dessert  box Betty Crocker™ Super Moist™ cake mix (any ...\n",
            "2      3    dessert  box Betty Crocker™ Super Moist™ yellow cake mi...\n",
            "3      4      snack  cups popped light butter-flavor microwave popc...\n",
            "4      5  condiment  cup mayonnaise or salad dressing,cup sugar,tab...\n",
            "..   ...        ...                                                ...\n",
            "740  741  appetizer  sheets frozen phyllo (filo) pastry (17x12 inch...\n",
            "741  742    dessert  cups Gold Medal™ all-purpose flour,teaspoons b...\n",
            "742  743  condiment  cups plain regular or fat-free yogurt (1 pound...\n",
            "743  744    dessert  cups granulated sugar,cup vegetable oil,teaspo...\n",
            "744  745  appetizer  cup mayonnaise,tablespoons refrigerated honey ...\n",
            "\n",
            "[745 rows x 3 columns]\n"
          ],
          "name": "stdout"
        }
      ]
    },
    {
      "cell_type": "code",
      "metadata": {
        "id": "rw9PL-w8Kixm",
        "colab_type": "code",
        "colab": {}
      },
      "source": [
        "from sklearn.ensemble import RandomForestRegressor\n",
        "from sklearn.model_selection import train_test_split\n"
      ],
      "execution_count": 0,
      "outputs": []
    },
    {
      "cell_type": "code",
      "metadata": {
        "id": "BL8b5_aRNh3I",
        "colab_type": "code",
        "outputId": "ce9e9e9d-2eeb-4e3d-ca4d-22f5a8386d78",
        "colab": {
          "base_uri": "https://localhost:8080/",
          "height": 272
        }
      },
      "source": [
        "print(df3)"
      ],
      "execution_count": 0,
      "outputs": [
        {
          "output_type": "stream",
          "text": [
            "      Id   category                                               text\n",
            "0      1      snack  pouch (17.5 oz) Betty Crocker™ double chocolat...\n",
            "1      2    dessert  box Betty Crocker™ Super Moist™ cake mix (any ...\n",
            "2      3    dessert  box Betty Crocker™ Super Moist™ yellow cake mi...\n",
            "3      4      snack  cups popped light butter-flavor microwave popc...\n",
            "4      5  condiment  cup mayonnaise or salad dressing,cup sugar,tab...\n",
            "..   ...        ...                                                ...\n",
            "740  741  appetizer  sheets frozen phyllo (filo) pastry (17x12 inch...\n",
            "741  742    dessert  cups Gold Medal™ all-purpose flour,teaspoons b...\n",
            "742  743  condiment  cups plain regular or fat-free yogurt (1 pound...\n",
            "743  744    dessert  cups granulated sugar,cup vegetable oil,teaspo...\n",
            "744  745  appetizer  cup mayonnaise,tablespoons refrigerated honey ...\n",
            "\n",
            "[745 rows x 3 columns]\n"
          ],
          "name": "stdout"
        }
      ]
    },
    {
      "cell_type": "code",
      "metadata": {
        "id": "6bQhd75USCJT",
        "colab_type": "code",
        "colab": {}
      },
      "source": [
        "import re\n",
        "df3['text'] = df3['text'].apply(lambda x: re.sub(r'\\b\\d+\\b', '', x))\n",
        "\n",
        "df3['text']  = df3['text'] .apply(lambda x: re.sub(r'[^\\w\\s]','',x))\n",
        "\n",
        "df3['text']  = df3['text'] .apply(lambda x: x.lower())"
      ],
      "execution_count": 0,
      "outputs": []
    },
    {
      "cell_type": "code",
      "metadata": {
        "id": "dO1muwpUShVa",
        "colab_type": "code",
        "outputId": "4239e64e-6ce2-4231-c1ad-b17386ffd259",
        "colab": {
          "base_uri": "https://localhost:8080/",
          "height": 198
        }
      },
      "source": [
        "df3.head()"
      ],
      "execution_count": 0,
      "outputs": [
        {
          "output_type": "execute_result",
          "data": {
            "text/html": [
              "<div>\n",
              "<style scoped>\n",
              "    .dataframe tbody tr th:only-of-type {\n",
              "        vertical-align: middle;\n",
              "    }\n",
              "\n",
              "    .dataframe tbody tr th {\n",
              "        vertical-align: top;\n",
              "    }\n",
              "\n",
              "    .dataframe thead th {\n",
              "        text-align: right;\n",
              "    }\n",
              "</style>\n",
              "<table border=\"1\" class=\"dataframe\">\n",
              "  <thead>\n",
              "    <tr style=\"text-align: right;\">\n",
              "      <th></th>\n",
              "      <th>Id</th>\n",
              "      <th>category</th>\n",
              "      <th>text</th>\n",
              "    </tr>\n",
              "  </thead>\n",
              "  <tbody>\n",
              "    <tr>\n",
              "      <th>0</th>\n",
              "      <td>1</td>\n",
              "      <td>snack</td>\n",
              "      <td>pouch  oz betty crocker double chocolate chunk...</td>\n",
              "    </tr>\n",
              "    <tr>\n",
              "      <th>1</th>\n",
              "      <td>2</td>\n",
              "      <td>dessert</td>\n",
              "      <td>box betty crocker super moist cake mix any fla...</td>\n",
              "    </tr>\n",
              "    <tr>\n",
              "      <th>2</th>\n",
              "      <td>3</td>\n",
              "      <td>dessert</td>\n",
              "      <td>box betty crocker super moist yellow cake mixc...</td>\n",
              "    </tr>\n",
              "    <tr>\n",
              "      <th>3</th>\n",
              "      <td>4</td>\n",
              "      <td>snack</td>\n",
              "      <td>cups popped light butterflavor microwave popco...</td>\n",
              "    </tr>\n",
              "    <tr>\n",
              "      <th>4</th>\n",
              "      <td>5</td>\n",
              "      <td>condiment</td>\n",
              "      <td>cup mayonnaise or salad dressingcup sugartable...</td>\n",
              "    </tr>\n",
              "  </tbody>\n",
              "</table>\n",
              "</div>"
            ],
            "text/plain": [
              "   Id   category                                               text\n",
              "0   1      snack  pouch  oz betty crocker double chocolate chunk...\n",
              "1   2    dessert  box betty crocker super moist cake mix any fla...\n",
              "2   3    dessert  box betty crocker super moist yellow cake mixc...\n",
              "3   4      snack  cups popped light butterflavor microwave popco...\n",
              "4   5  condiment  cup mayonnaise or salad dressingcup sugartable..."
            ]
          },
          "metadata": {
            "tags": []
          },
          "execution_count": 10
        }
      ]
    },
    {
      "cell_type": "code",
      "metadata": {
        "id": "sU1Futn5Sk6o",
        "colab_type": "code",
        "outputId": "97014a81-6e33-43ea-8578-37c57777b0c3",
        "colab": {
          "base_uri": "https://localhost:8080/",
          "height": 35
        }
      },
      "source": [
        "from sklearn.feature_extraction.text import TfidfVectorizer\n",
        "vectorize = TfidfVectorizer()\n",
        "X = vectorize.fit_transform(df3['text'])\n",
        "\n",
        "print(X.shape)"
      ],
      "execution_count": 0,
      "outputs": [
        {
          "output_type": "stream",
          "text": [
            "(745, 3156)\n"
          ],
          "name": "stdout"
        }
      ]
    },
    {
      "cell_type": "code",
      "metadata": {
        "id": "coTVoOcLS8YR",
        "colab_type": "code",
        "outputId": "37c5d0e6-2b97-4bed-f9a3-76dd1ac0a214",
        "colab": {
          "base_uri": "https://localhost:8080/",
          "height": 198
        }
      },
      "source": [
        " "
      ],
      "execution_count": 0,
      "outputs": [
        {
          "output_type": "execute_result",
          "data": {
            "text/html": [
              "<div>\n",
              "<style scoped>\n",
              "    .dataframe tbody tr th:only-of-type {\n",
              "        vertical-align: middle;\n",
              "    }\n",
              "\n",
              "    .dataframe tbody tr th {\n",
              "        vertical-align: top;\n",
              "    }\n",
              "\n",
              "    .dataframe thead th {\n",
              "        text-align: right;\n",
              "    }\n",
              "</style>\n",
              "<table border=\"1\" class=\"dataframe\">\n",
              "  <thead>\n",
              "    <tr style=\"text-align: right;\">\n",
              "      <th></th>\n",
              "      <th>Weight</th>\n",
              "    </tr>\n",
              "  </thead>\n",
              "  <tbody>\n",
              "    <tr>\n",
              "      <th>or</th>\n",
              "      <td>1.669305</td>\n",
              "    </tr>\n",
              "    <tr>\n",
              "      <th>oz</th>\n",
              "      <td>2.117557</td>\n",
              "    </tr>\n",
              "    <tr>\n",
              "      <th>chopped</th>\n",
              "      <td>2.176646</td>\n",
              "    </tr>\n",
              "    <tr>\n",
              "      <th>cups</th>\n",
              "      <td>2.286849</td>\n",
              "    </tr>\n",
              "    <tr>\n",
              "      <th>cup</th>\n",
              "      <td>2.296606</td>\n",
              "    </tr>\n",
              "  </tbody>\n",
              "</table>\n",
              "</div>"
            ],
            "text/plain": [
              "           Weight\n",
              "or       1.669305\n",
              "oz       2.117557\n",
              "chopped  2.176646\n",
              "cups     2.286849\n",
              "cup      2.296606"
            ]
          },
          "metadata": {
            "tags": []
          },
          "execution_count": 14
        }
      ]
    },
    {
      "cell_type": "code",
      "metadata": {
        "id": "lbVDp2tWTcnT",
        "colab_type": "code",
        "outputId": "6031ed26-6e67-40de-c540-3e15ae517504",
        "colab": {
          "base_uri": "https://localhost:8080/",
          "height": 54
        }
      },
      "source": [
        "from sklearn.preprocessing import LabelEncoder\n",
        "labeler = LabelEncoder()\n",
        "labeler.fit(df3['category'])\n",
        "df3['ml']=labeler.transform(df3['category'])\n",
        "labeler.classes_"
      ],
      "execution_count": 0,
      "outputs": [
        {
          "output_type": "execute_result",
          "data": {
            "text/plain": [
              "array(['appetizer', 'beverage', 'condiment', 'dessert', 'snack'],\n",
              "      dtype=object)"
            ]
          },
          "metadata": {
            "tags": []
          },
          "execution_count": 18
        }
      ]
    },
    {
      "cell_type": "code",
      "metadata": {
        "id": "Rf9AKgBSW4rL",
        "colab_type": "code",
        "outputId": "eef2805a-4225-4104-b8e0-cbc0112d0eac",
        "colab": {
          "base_uri": "https://localhost:8080/",
          "height": 126
        }
      },
      "source": [
        "df3['ml'].value_counts()"
      ],
      "execution_count": 0,
      "outputs": [
        {
          "output_type": "execute_result",
          "data": {
            "text/plain": [
              "4    155\n",
              "3    151\n",
              "2    149\n",
              "0    146\n",
              "1    144\n",
              "Name: ml, dtype: int64"
            ]
          },
          "metadata": {
            "tags": []
          },
          "execution_count": 19
        }
      ]
    },
    {
      "cell_type": "code",
      "metadata": {
        "id": "NvB9gRUsXeAa",
        "colab_type": "code",
        "colab": {}
      },
      "source": [
        "y = df3['ml'] \n",
        "X_train, X_test, y_train, y_test = train_test_split(X, y, test_size = 0.2, random_state = 7)\n",
        "target_names = labeler.classes_"
      ],
      "execution_count": 0,
      "outputs": []
    },
    {
      "cell_type": "code",
      "metadata": {
        "id": "9cKCQ0ewX2q8",
        "colab_type": "code",
        "outputId": "04a3d623-9ccc-413b-e88e-0a24624abd84",
        "colab": {
          "base_uri": "https://localhost:8080/",
          "height": 235
        }
      },
      "source": [
        "from sklearn.neighbors import KNeighborsClassifier\n",
        "from sklearn.metrics import classification_report\n",
        "knn = KNeighborsClassifier(n_neighbors = 10, weights='uniform', algorithm='auto')\n",
        "knn.fit(X_train, y_train) \n",
        "y_pred = knn.predict(X_test)\n",
        "print(classification_report(y_test, y_pred, target_names = target_names))\n",
        "list1 = pd.DataFrame(labeler.classes_, columns = ['category'])"
      ],
      "execution_count": 0,
      "outputs": [
        {
          "output_type": "stream",
          "text": [
            "              precision    recall  f1-score   support\n",
            "\n",
            "   appetizer       0.78      0.86      0.82        29\n",
            "    beverage       0.86      0.76      0.81        25\n",
            "   condiment       0.69      0.58      0.63        31\n",
            "     dessert       0.71      0.86      0.77        28\n",
            "       snack       0.77      0.75      0.76        36\n",
            "\n",
            "    accuracy                           0.76       149\n",
            "   macro avg       0.76      0.76      0.76       149\n",
            "weighted avg       0.76      0.76      0.76       149\n",
            "\n"
          ],
          "name": "stdout"
        }
      ]
    },
    {
      "cell_type": "code",
      "metadata": {
        "id": "70HEH5kaYAMr",
        "colab_type": "code",
        "outputId": "94e88676-d5f0-45e5-f2fa-538b32f470d1",
        "colab": {
          "base_uri": "https://localhost:8080/",
          "height": 235
        }
      },
      "source": [
        "from sklearn.linear_model import LogisticRegression\n",
        "logit= LogisticRegression()\n",
        "logit.fit(X_train, y_train)\n",
        "y_pred = logit.predict(X_test)\n",
        "print(classification_report(y_test, y_pred,target_names = target_names))"
      ],
      "execution_count": 0,
      "outputs": [
        {
          "output_type": "stream",
          "text": [
            "              precision    recall  f1-score   support\n",
            "\n",
            "   appetizer       0.84      0.90      0.87        29\n",
            "    beverage       0.93      1.00      0.96        25\n",
            "   condiment       0.78      0.68      0.72        31\n",
            "     dessert       0.81      0.89      0.85        28\n",
            "       snack       0.85      0.78      0.81        36\n",
            "\n",
            "    accuracy                           0.84       149\n",
            "   macro avg       0.84      0.85      0.84       149\n",
            "weighted avg       0.84      0.84      0.84       149\n",
            "\n"
          ],
          "name": "stdout"
        }
      ]
    },
    {
      "cell_type": "code",
      "metadata": {
        "id": "iAlrLdL6ZH9y",
        "colab_type": "code",
        "colab": {}
      },
      "source": [
        "def ingre(top):\n",
        "    \n",
        "    df = pd.DataFrame({ 'ingred':top})\n",
        "    \n",
        "    d = list1.to_dict()\n",
        "    d= d['category']\n",
        "    df[\"ingred\"] = df[\"ingred\"].map(d) \n",
        "    return df.to_string(header=False)\n",
        "def predict_cate(ingredients):\n",
        "\n",
        "    X_ing = vectorize.transform(ingredients)\n",
        "   \n",
        "    prob = logit.predict_proba(X_ing)[0]\n",
        "   \n",
        "    top = np.argsort(prob)[::-1][:1]\n",
        "   \n",
        "    top_prob = np.sort(prob)[::-1][:1]\n",
        "   \n",
        "    return ingre(top)"
      ],
      "execution_count": 0,
      "outputs": []
    },
    {
      "cell_type": "code",
      "metadata": {
        "id": "p0bNYnbAaXVH",
        "colab_type": "code",
        "outputId": "30ad800e-949a-46b6-8059-ccf952688f3b",
        "colab": {
          "base_uri": "https://localhost:8080/",
          "height": 35
        }
      },
      "source": [
        "predict_cate(['pouch  oz betty crocker double chocolate chunk cookie mixoil water and egg called for on cookie mix pouchcup from oz can sweetened condensed milk not evaporatedcup creamy peanut buttercup from oz package reeses minis peanut butter cups coarsely choppedcup semisweet chocolate chipscup reeses peanut butter chipscup cocktail peanuts chopped'])"
      ],
      "execution_count": 0,
      "outputs": [
        {
          "output_type": "execute_result",
          "data": {
            "text/plain": [
              "'0  snack'"
            ]
          },
          "metadata": {
            "tags": []
          },
          "execution_count": 197
        }
      ]
    },
    {
      "cell_type": "code",
      "metadata": {
        "id": "TKqqjAGyfgJp",
        "colab_type": "code",
        "outputId": "be81db77-aa6c-4e08-c156-c66e0082d593",
        "colab": {
          "base_uri": "https://localhost:8080/",
          "height": 216
        }
      },
      "source": [
        "!pip install -U -q PyDrive\n",
        "from pydrive.auth import GoogleAuth\n",
        "from pydrive.drive import GoogleDrive\n",
        "from google.colab import auth\n",
        "from oauth2client.client import GoogleCredentials\n",
        "# Authenticate and create the PyDrive client.\n",
        "auth.authenticate_user()\n",
        "gauth = GoogleAuth()\n",
        "gauth.credentials = GoogleCredentials.get_application_default()\n",
        "drive = GoogleDrive(gauth)\n",
        "link='https://drive.google.com/open?id=1bf1xLhtgojK3-mLh4JxX-fIvlV3pEU1D'\n",
        "fluff, id = link.split('=')\n",
        "print (id)\n",
        "downloaded = drive.CreateFile({'id':id}) \n",
        "downloaded.GetContentFile('validation.csv')  \n",
        "df3 = pd.read_csv('validation.csv')\n",
        "df3.head()"
      ],
      "execution_count": 0,
      "outputs": [
        {
          "output_type": "stream",
          "text": [
            "1bf1xLhtgojK3-mLh4JxX-fIvlV3pEU1D\n"
          ],
          "name": "stdout"
        },
        {
          "output_type": "execute_result",
          "data": {
            "text/html": [
              "<div>\n",
              "<style scoped>\n",
              "    .dataframe tbody tr th:only-of-type {\n",
              "        vertical-align: middle;\n",
              "    }\n",
              "\n",
              "    .dataframe tbody tr th {\n",
              "        vertical-align: top;\n",
              "    }\n",
              "\n",
              "    .dataframe thead th {\n",
              "        text-align: right;\n",
              "    }\n",
              "</style>\n",
              "<table border=\"1\" class=\"dataframe\">\n",
              "  <thead>\n",
              "    <tr style=\"text-align: right;\">\n",
              "      <th></th>\n",
              "      <th>Id</th>\n",
              "      <th>text</th>\n",
              "    </tr>\n",
              "  </thead>\n",
              "  <tbody>\n",
              "    <tr>\n",
              "      <th>0</th>\n",
              "      <td>746</td>\n",
              "      <td>\"RecipeName\": \"\"\"Cinnamon \"Fried\" Ice Cream \"\"...</td>\n",
              "    </tr>\n",
              "    <tr>\n",
              "      <th>1</th>\n",
              "      <td>747</td>\n",
              "      <td>\"RecipeName\": \"“Devilicious” Eggs\",\\r\\n\"Ingred...</td>\n",
              "    </tr>\n",
              "    <tr>\n",
              "      <th>2</th>\n",
              "      <td>748</td>\n",
              "      <td>\"RecipeName\": \"All Shook Up Chex Mix\",\\r\\n\"Ing...</td>\n",
              "    </tr>\n",
              "    <tr>\n",
              "      <th>3</th>\n",
              "      <td>749</td>\n",
              "      <td>\"RecipeName\": \"Annie’s™ Yogurt Dirt Cups \",\\r\\...</td>\n",
              "    </tr>\n",
              "    <tr>\n",
              "      <th>4</th>\n",
              "      <td>750</td>\n",
              "      <td>\"RecipeName\": \"Antipasto Kabobs\",\\r\\n\"Ingredie...</td>\n",
              "    </tr>\n",
              "  </tbody>\n",
              "</table>\n",
              "</div>"
            ],
            "text/plain": [
              "    Id                                               text\n",
              "0  746  \"RecipeName\": \"\"\"Cinnamon \"Fried\" Ice Cream \"\"...\n",
              "1  747  \"RecipeName\": \"“Devilicious” Eggs\",\\r\\n\"Ingred...\n",
              "2  748  \"RecipeName\": \"All Shook Up Chex Mix\",\\r\\n\"Ing...\n",
              "3  749  \"RecipeName\": \"Annie’s™ Yogurt Dirt Cups \",\\r\\...\n",
              "4  750  \"RecipeName\": \"Antipasto Kabobs\",\\r\\n\"Ingredie..."
            ]
          },
          "metadata": {
            "tags": []
          },
          "execution_count": 198
        }
      ]
    },
    {
      "cell_type": "code",
      "metadata": {
        "id": "9YzRQNVevgWR",
        "colab_type": "code",
        "outputId": "4826ab71-dfb4-4154-9d14-913386e71ca8",
        "colab": {
          "base_uri": "https://localhost:8080/",
          "height": 199
        }
      },
      "source": [
        "df4=pd.read_csv('validation.csv')\n",
        "for i in range(0,len(df4)):\n",
        "  x=df4.text[i]\n",
        "  y=x.replace('\\\"','')\n",
        "  t=y.index('[')+1\n",
        "  t1=y.index(']')\n",
        "  z=y.replace(y[:t],\"\")\n",
        "  z=z.replace(y[t1:],\"\")\n",
        "  z=z.replace(\"\\r\",\"\")\n",
        "  z=z.replace(\"\\n\",\"\")\n",
        "  df4.text[i]=\"\"\n",
        "  df4.text[i]=z\n",
        "import re\n",
        "df4['text'] = df4['text'].apply(lambda x: re.sub(r'\\b\\d+\\b', '', x))\n",
        "\n",
        "df4['text']  = df4['text'] .apply(lambda x: re.sub(r'[^\\w\\s]','',x))\n",
        "\n",
        "df4['text']  = df4['text'] .apply(lambda x: x.lower())\n"
      ],
      "execution_count": 0,
      "outputs": [
        {
          "output_type": "stream",
          "text": [
            "/usr/local/lib/python3.6/dist-packages/ipykernel_launcher.py:11: SettingWithCopyWarning: \n",
            "A value is trying to be set on a copy of a slice from a DataFrame\n",
            "\n",
            "See the caveats in the documentation: http://pandas.pydata.org/pandas-docs/stable/user_guide/indexing.html#returning-a-view-versus-a-copy\n",
            "  # This is added back by InteractiveShellApp.init_path()\n",
            "/usr/local/lib/python3.6/dist-packages/ipykernel_launcher.py:12: SettingWithCopyWarning: \n",
            "A value is trying to be set on a copy of a slice from a DataFrame\n",
            "\n",
            "See the caveats in the documentation: http://pandas.pydata.org/pandas-docs/stable/user_guide/indexing.html#returning-a-view-versus-a-copy\n",
            "  if sys.path[0] == '':\n"
          ],
          "name": "stderr"
        }
      ]
    },
    {
      "cell_type": "code",
      "metadata": {
        "id": "CHtFFOsz2dua",
        "colab_type": "code",
        "outputId": "384f22f3-c4c5-4062-dac6-59fe56ed3498",
        "colab": {
          "base_uri": "https://localhost:8080/",
          "height": 1000
        }
      },
      "source": [
        "for i in range(len(df4)):\n",
        "  print(df4.Id[i],predict_cate([df4.text[i]]))"
      ],
      "execution_count": 0,
      "outputs": [
        {
          "output_type": "stream",
          "text": [
            "746 0  beverage\n",
            "747 0  appetizer\n",
            "748 0  snack\n",
            "749 0  snack\n",
            "750 0  appetizer\n",
            "751 0  beverage\n",
            "752 0  appetizer\n",
            "753 0  appetizer\n",
            "754 0  appetizer\n",
            "755 0  appetizer\n",
            "756 0  beverage\n",
            "757 0  dessert\n",
            "758 0  dessert\n",
            "759 0  appetizer\n",
            "760 0  beverage\n",
            "761 0  condiment\n",
            "762 0  beverage\n",
            "763 0  dessert\n",
            "764 0  dessert\n",
            "765 0  beverage\n",
            "766 0  condiment\n",
            "767 0  beverage\n",
            "768 0  appetizer\n",
            "769 0  appetizer\n",
            "770 0  appetizer\n",
            "771 0  dessert\n",
            "772 0  snack\n",
            "773 0  beverage\n",
            "774 0  appetizer\n",
            "775 0  dessert\n",
            "776 0  beverage\n",
            "777 0  appetizer\n",
            "778 0  dessert\n",
            "779 0  dessert\n",
            "780 0  dessert\n",
            "781 0  condiment\n",
            "782 0  appetizer\n",
            "783 0  beverage\n",
            "784 0  dessert\n",
            "785 0  appetizer\n",
            "786 0  dessert\n",
            "787 0  dessert\n",
            "788 0  condiment\n",
            "789 0  appetizer\n",
            "790 0  beverage\n",
            "791 0  snack\n",
            "792 0  dessert\n",
            "793 0  dessert\n",
            "794 0  appetizer\n",
            "795 0  appetizer\n",
            "796 0  dessert\n",
            "797 0  snack\n",
            "798 0  condiment\n",
            "799 0  snack\n",
            "800 0  snack\n",
            "801 0  snack\n",
            "802 0  snack\n",
            "803 0  dessert\n",
            "804 0  dessert\n",
            "805 0  dessert\n",
            "806 0  snack\n",
            "807 0  snack\n",
            "808 0  snack\n",
            "809 0  dessert\n",
            "810 0  dessert\n",
            "811 0  dessert\n",
            "812 0  condiment\n",
            "813 0  beverage\n",
            "814 0  condiment\n",
            "815 0  beverage\n",
            "816 0  condiment\n",
            "817 0  condiment\n",
            "818 0  dessert\n",
            "819 0  beverage\n",
            "820 0  dessert\n",
            "821 0  condiment\n",
            "822 0  beverage\n",
            "823 0  condiment\n",
            "824 0  condiment\n",
            "825 0  beverage\n",
            "826 0  appetizer\n",
            "827 0  appetizer\n",
            "828 0  appetizer\n",
            "829 0  appetizer\n",
            "830 0  appetizer\n",
            "831 0  appetizer\n",
            "832 0  beverage\n",
            "833 0  snack\n",
            "834 0  beverage\n",
            "835 0  dessert\n",
            "836 0  appetizer\n",
            "837 0  condiment\n",
            "838 0  condiment\n",
            "839 0  snack\n",
            "840 0  beverage\n",
            "841 0  appetizer\n",
            "842 0  appetizer\n",
            "843 0  appetizer\n",
            "844 0  dessert\n",
            "845 0  condiment\n",
            "846 0  dessert\n",
            "847 0  condiment\n",
            "848 0  condiment\n",
            "849 0  beverage\n",
            "850 0  appetizer\n",
            "851 0  beverage\n",
            "852 0  beverage\n",
            "853 0  beverage\n",
            "854 0  snack\n",
            "855 0  condiment\n",
            "856 0  snack\n",
            "857 0  snack\n",
            "858 0  snack\n",
            "859 0  snack\n",
            "860 0  appetizer\n",
            "861 0  condiment\n",
            "862 0  snack\n",
            "863 0  snack\n",
            "864 0  snack\n",
            "865 0  appetizer\n",
            "866 0  appetizer\n",
            "867 0  dessert\n",
            "868 0  beverage\n",
            "869 0  snack\n",
            "870 0  appetizer\n",
            "871 0  dessert\n",
            "872 0  dessert\n",
            "873 0  dessert\n",
            "874 0  snack\n",
            "875 0  condiment\n",
            "876 0  appetizer\n",
            "877 0  snack\n",
            "878 0  dessert\n",
            "879 0  beverage\n",
            "880 0  dessert\n",
            "881 0  dessert\n",
            "882 0  dessert\n",
            "883 0  beverage\n",
            "884 0  snack\n",
            "885 0  appetizer\n",
            "886 0  beverage\n",
            "887 0  beverage\n",
            "888 0  beverage\n",
            "889 0  beverage\n",
            "890 0  condiment\n",
            "891 0  dessert\n",
            "892 0  appetizer\n",
            "893 0  appetizer\n",
            "894 0  appetizer\n",
            "895 0  condiment\n",
            "896 0  snack\n",
            "897 0  dessert\n",
            "898 0  appetizer\n",
            "899 0  snack\n",
            "900 0  condiment\n",
            "901 0  beverage\n",
            "902 0  dessert\n",
            "903 0  beverage\n",
            "904 0  appetizer\n",
            "905 0  beverage\n",
            "906 0  dessert\n",
            "907 0  beverage\n",
            "908 0  beverage\n",
            "909 0  dessert\n",
            "910 0  dessert\n",
            "911 0  snack\n",
            "912 0  dessert\n",
            "913 0  dessert\n",
            "914 0  beverage\n",
            "915 0  beverage\n",
            "916 0  dessert\n",
            "917 0  condiment\n",
            "918 0  dessert\n",
            "919 0  dessert\n",
            "920 0  dessert\n",
            "921 0  appetizer\n",
            "922 0  beverage\n",
            "923 0  appetizer\n",
            "924 0  beverage\n",
            "925 0  beverage\n",
            "926 0  appetizer\n",
            "927 0  condiment\n",
            "928 0  dessert\n",
            "929 0  beverage\n",
            "930 0  condiment\n",
            "931 0  dessert\n",
            "932 0  dessert\n",
            "933 0  beverage\n",
            "934 0  condiment\n",
            "935 0  condiment\n",
            "936 0  beverage\n",
            "937 0  appetizer\n",
            "938 0  condiment\n",
            "939 0  appetizer\n",
            "940 0  appetizer\n",
            "941 0  condiment\n",
            "942 0  appetizer\n",
            "943 0  beverage\n",
            "944 0  appetizer\n",
            "945 0  appetizer\n",
            "946 0  dessert\n",
            "947 0  condiment\n",
            "948 0  appetizer\n",
            "949 0  beverage\n",
            "950 0  condiment\n",
            "951 0  condiment\n",
            "952 0  beverage\n",
            "953 0  dessert\n",
            "954 0  beverage\n",
            "955 0  snack\n",
            "956 0  beverage\n",
            "957 0  dessert\n",
            "958 0  appetizer\n",
            "959 0  dessert\n",
            "960 0  beverage\n",
            "961 0  beverage\n",
            "962 0  beverage\n",
            "963 0  dessert\n",
            "964 0  beverage\n",
            "965 0  dessert\n",
            "966 0  dessert\n",
            "967 0  beverage\n",
            "968 0  beverage\n",
            "969 0  beverage\n",
            "970 0  dessert\n",
            "971 0  dessert\n",
            "972 0  appetizer\n",
            "973 0  appetizer\n",
            "974 0  dessert\n",
            "975 0  snack\n",
            "976 0  snack\n",
            "977 0  condiment\n",
            "978 0  snack\n",
            "979 0  snack\n",
            "980 0  condiment\n",
            "981 0  snack\n",
            "982 0  appetizer\n",
            "983 0  condiment\n",
            "984 0  condiment\n",
            "985 0  condiment\n",
            "986 0  beverage\n",
            "987 0  beverage\n",
            "988 0  condiment\n",
            "989 0  beverage\n",
            "990 0  appetizer\n",
            "991 0  appetizer\n",
            "992 0  appetizer\n",
            "993 0  condiment\n",
            "994 0  dessert\n",
            "995 0  beverage\n",
            "996 0  beverage\n",
            "997 0  beverage\n",
            "998 0  beverage\n",
            "999 0  snack\n",
            "1000 0  appetizer\n"
          ],
          "name": "stdout"
        }
      ]
    },
    {
      "cell_type": "code",
      "metadata": {
        "id": "ZSgWhSQK_z4k",
        "colab_type": "code",
        "colab": {}
      },
      "source": [
        ""
      ],
      "execution_count": 0,
      "outputs": []
    },
    {
      "cell_type": "code",
      "metadata": {
        "id": "25Y2ARXG2xeR",
        "colab_type": "code",
        "colab": {}
      },
      "source": [
        "import csv"
      ],
      "execution_count": 0,
      "outputs": []
    },
    {
      "cell_type": "code",
      "metadata": {
        "id": "S26RV6Ez-vqX",
        "colab_type": "code",
        "colab": {}
      },
      "source": [
        "df4.to_csv(r'C:\\Users\\pawan\\Downloads\\submission.csv')"
      ],
      "execution_count": 0,
      "outputs": []
    }
  ]
}